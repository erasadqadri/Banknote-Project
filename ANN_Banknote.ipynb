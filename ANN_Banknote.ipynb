{
  "nbformat": 4,
  "nbformat_minor": 0,
  "metadata": {
    "colab": {
      "name": "ANN Banknote.ipynb",
      "provenance": [],
      "collapsed_sections": [],
      "mount_file_id": "18zvn4683QqyCGugsd7Gl293ME-_q-uWg",
      "authorship_tag": "ABX9TyOPhSnV7AlP0hBbTRg3wCeE",
      "include_colab_link": true
    },
    "kernelspec": {
      "name": "python3",
      "display_name": "Python 3"
    },
    "language_info": {
      "name": "python"
    },
    "accelerator": "GPU"
  },
  "cells": [
    {
      "cell_type": "markdown",
      "metadata": {
        "id": "view-in-github",
        "colab_type": "text"
      },
      "source": [
        "<a href=\"https://colab.research.google.com/github/erasadqadri/Banknote-Project/blob/main/ANN_Banknote.ipynb\" target=\"_parent\"><img src=\"https://colab.research.google.com/assets/colab-badge.svg\" alt=\"Open In Colab\"/></a>"
      ]
    },
    {
      "cell_type": "markdown",
      "metadata": {
        "id": "7fzpkX8vdoow"
      },
      "source": [
        "**# ANN for Banknote Dataset**"
      ]
    },
    {
      "cell_type": "code",
      "metadata": {
        "id": "-u4ci80jaPW5"
      },
      "source": [
        "# Importing the libraries\n",
        "import numpy as np\n",
        "import matplotlib.pyplot as plt\n",
        "import pandas as pd"
      ],
      "execution_count": 1,
      "outputs": []
    },
    {
      "cell_type": "code",
      "metadata": {
        "colab": {
          "base_uri": "https://localhost:8080/",
          "height": 206
        },
        "id": "fCd1CgesalLP",
        "outputId": "12baf0a3-6a13-49c9-caaa-d78c9df7858f"
      },
      "source": [
        "# Importing the dataset\n",
        "dataset = pd.read_csv('/content/drive/MyDrive/Deep Learning/Datasets/Datasets/Banknote/BankNote.csv')\n",
        "dataset.head()"
      ],
      "execution_count": 2,
      "outputs": [
        {
          "output_type": "execute_result",
          "data": {
            "text/html": [
              "<div>\n",
              "<style scoped>\n",
              "    .dataframe tbody tr th:only-of-type {\n",
              "        vertical-align: middle;\n",
              "    }\n",
              "\n",
              "    .dataframe tbody tr th {\n",
              "        vertical-align: top;\n",
              "    }\n",
              "\n",
              "    .dataframe thead th {\n",
              "        text-align: right;\n",
              "    }\n",
              "</style>\n",
              "<table border=\"1\" class=\"dataframe\">\n",
              "  <thead>\n",
              "    <tr style=\"text-align: right;\">\n",
              "      <th></th>\n",
              "      <th>variance</th>\n",
              "      <th>skewness</th>\n",
              "      <th>curtosis</th>\n",
              "      <th>entropy</th>\n",
              "      <th>class</th>\n",
              "    </tr>\n",
              "  </thead>\n",
              "  <tbody>\n",
              "    <tr>\n",
              "      <th>0</th>\n",
              "      <td>3.62160</td>\n",
              "      <td>8.6661</td>\n",
              "      <td>-2.8073</td>\n",
              "      <td>-0.44699</td>\n",
              "      <td>0</td>\n",
              "    </tr>\n",
              "    <tr>\n",
              "      <th>1</th>\n",
              "      <td>4.54590</td>\n",
              "      <td>8.1674</td>\n",
              "      <td>-2.4586</td>\n",
              "      <td>-1.46210</td>\n",
              "      <td>0</td>\n",
              "    </tr>\n",
              "    <tr>\n",
              "      <th>2</th>\n",
              "      <td>3.86600</td>\n",
              "      <td>-2.6383</td>\n",
              "      <td>1.9242</td>\n",
              "      <td>0.10645</td>\n",
              "      <td>0</td>\n",
              "    </tr>\n",
              "    <tr>\n",
              "      <th>3</th>\n",
              "      <td>3.45660</td>\n",
              "      <td>9.5228</td>\n",
              "      <td>-4.0112</td>\n",
              "      <td>-3.59440</td>\n",
              "      <td>0</td>\n",
              "    </tr>\n",
              "    <tr>\n",
              "      <th>4</th>\n",
              "      <td>0.32924</td>\n",
              "      <td>-4.4552</td>\n",
              "      <td>4.5718</td>\n",
              "      <td>-0.98880</td>\n",
              "      <td>0</td>\n",
              "    </tr>\n",
              "  </tbody>\n",
              "</table>\n",
              "</div>"
            ],
            "text/plain": [
              "   variance  skewness  curtosis  entropy  class\n",
              "0   3.62160    8.6661   -2.8073 -0.44699      0\n",
              "1   4.54590    8.1674   -2.4586 -1.46210      0\n",
              "2   3.86600   -2.6383    1.9242  0.10645      0\n",
              "3   3.45660    9.5228   -4.0112 -3.59440      0\n",
              "4   0.32924   -4.4552    4.5718 -0.98880      0"
            ]
          },
          "metadata": {
            "tags": []
          },
          "execution_count": 2
        }
      ]
    },
    {
      "cell_type": "code",
      "metadata": {
        "colab": {
          "base_uri": "https://localhost:8080/",
          "height": 206
        },
        "id": "Iwx-BNyzbBHl",
        "outputId": "9feac798-bb86-4113-bdf6-0bf88d7e92f3"
      },
      "source": [
        "#Independent Feature:\n",
        "X = dataset.iloc[:,:-1]\n",
        "X.head()"
      ],
      "execution_count": 3,
      "outputs": [
        {
          "output_type": "execute_result",
          "data": {
            "text/html": [
              "<div>\n",
              "<style scoped>\n",
              "    .dataframe tbody tr th:only-of-type {\n",
              "        vertical-align: middle;\n",
              "    }\n",
              "\n",
              "    .dataframe tbody tr th {\n",
              "        vertical-align: top;\n",
              "    }\n",
              "\n",
              "    .dataframe thead th {\n",
              "        text-align: right;\n",
              "    }\n",
              "</style>\n",
              "<table border=\"1\" class=\"dataframe\">\n",
              "  <thead>\n",
              "    <tr style=\"text-align: right;\">\n",
              "      <th></th>\n",
              "      <th>variance</th>\n",
              "      <th>skewness</th>\n",
              "      <th>curtosis</th>\n",
              "      <th>entropy</th>\n",
              "    </tr>\n",
              "  </thead>\n",
              "  <tbody>\n",
              "    <tr>\n",
              "      <th>0</th>\n",
              "      <td>3.62160</td>\n",
              "      <td>8.6661</td>\n",
              "      <td>-2.8073</td>\n",
              "      <td>-0.44699</td>\n",
              "    </tr>\n",
              "    <tr>\n",
              "      <th>1</th>\n",
              "      <td>4.54590</td>\n",
              "      <td>8.1674</td>\n",
              "      <td>-2.4586</td>\n",
              "      <td>-1.46210</td>\n",
              "    </tr>\n",
              "    <tr>\n",
              "      <th>2</th>\n",
              "      <td>3.86600</td>\n",
              "      <td>-2.6383</td>\n",
              "      <td>1.9242</td>\n",
              "      <td>0.10645</td>\n",
              "    </tr>\n",
              "    <tr>\n",
              "      <th>3</th>\n",
              "      <td>3.45660</td>\n",
              "      <td>9.5228</td>\n",
              "      <td>-4.0112</td>\n",
              "      <td>-3.59440</td>\n",
              "    </tr>\n",
              "    <tr>\n",
              "      <th>4</th>\n",
              "      <td>0.32924</td>\n",
              "      <td>-4.4552</td>\n",
              "      <td>4.5718</td>\n",
              "      <td>-0.98880</td>\n",
              "    </tr>\n",
              "  </tbody>\n",
              "</table>\n",
              "</div>"
            ],
            "text/plain": [
              "   variance  skewness  curtosis  entropy\n",
              "0   3.62160    8.6661   -2.8073 -0.44699\n",
              "1   4.54590    8.1674   -2.4586 -1.46210\n",
              "2   3.86600   -2.6383    1.9242  0.10645\n",
              "3   3.45660    9.5228   -4.0112 -3.59440\n",
              "4   0.32924   -4.4552    4.5718 -0.98880"
            ]
          },
          "metadata": {
            "tags": []
          },
          "execution_count": 3
        }
      ]
    },
    {
      "cell_type": "code",
      "metadata": {
        "colab": {
          "base_uri": "https://localhost:8080/"
        },
        "id": "SuW3Qp_TbBMx",
        "outputId": "6e03cd32-3589-448c-90ea-1561d8b2946f"
      },
      "source": [
        "#Dependent Feature:\n",
        "y = dataset.iloc[:,-1]\n",
        "y"
      ],
      "execution_count": 4,
      "outputs": [
        {
          "output_type": "execute_result",
          "data": {
            "text/plain": [
              "0       0\n",
              "1       0\n",
              "2       0\n",
              "3       0\n",
              "4       0\n",
              "       ..\n",
              "1367    1\n",
              "1368    1\n",
              "1369    1\n",
              "1370    1\n",
              "1371    1\n",
              "Name: class, Length: 1372, dtype: int64"
            ]
          },
          "metadata": {
            "tags": []
          },
          "execution_count": 4
        }
      ]
    },
    {
      "cell_type": "code",
      "metadata": {
        "id": "VflPFs65bZWv"
      },
      "source": [
        "#Train Test Split:\n",
        "from sklearn.model_selection import train_test_split\n",
        "X_train, X_test, y_train, y_test = train_test_split(X, y, test_size = 0.3, random_state = 0)"
      ],
      "execution_count": 5,
      "outputs": []
    },
    {
      "cell_type": "code",
      "metadata": {
        "id": "jJmGShf5atIA"
      },
      "source": [
        "# Feature Scaling\n",
        "from sklearn.preprocessing import StandardScaler\n",
        "sc = StandardScaler()\n",
        "X_train = sc.fit_transform(X_train)\n",
        "X_test = sc.transform(X_test)"
      ],
      "execution_count": 6,
      "outputs": []
    },
    {
      "cell_type": "code",
      "metadata": {
        "colab": {
          "base_uri": "https://localhost:8080/"
        },
        "id": "CBt_QBszbpGN",
        "outputId": "f2182faf-78d7-4589-ebc5-52b44a62549a"
      },
      "source": [
        "# Importing the Keras libraries and packages\n",
        "import keras\n",
        "from keras.models import Sequential\n",
        "from keras.layers import Dense\n",
        "\n",
        "# Initialising the ANN\n",
        "classifier = Sequential()\n",
        "\n",
        "# Adding the input layer and the first hidden layer\n",
        "classifier.add(Dense(activation=\"relu\", input_dim=4, units=6, kernel_initializer=\"uniform\"))\n",
        "\n",
        "# Adding the second hidden layer\n",
        "classifier.add(Dense(activation=\"relu\", units=6, kernel_initializer=\"uniform\"))\n",
        "\n",
        "# Adding the output layer\n",
        "classifier.add(Dense(activation=\"sigmoid\", units=1, kernel_initializer=\"uniform\"))\n",
        "\n",
        "# Compiling the ANN\n",
        "classifier.compile(optimizer = 'adam', loss = 'binary_crossentropy', metrics = ['accuracy'])\n",
        "\n",
        "# Fitting the ANN to the Training set\n",
        "history = classifier.fit(X_train, y_train, batch_size = 10, epochs = 70)"
      ],
      "execution_count": 7,
      "outputs": [
        {
          "output_type": "stream",
          "text": [
            "Epoch 1/70\n",
            "96/96 [==============================] - 13s 2ms/step - loss: 0.6917 - accuracy: 0.5544\n",
            "Epoch 2/70\n",
            "96/96 [==============================] - 0s 3ms/step - loss: 0.6547 - accuracy: 0.9147\n",
            "Epoch 3/70\n",
            "96/96 [==============================] - 0s 2ms/step - loss: 0.4976 - accuracy: 0.9524\n",
            "Epoch 4/70\n",
            "96/96 [==============================] - 0s 3ms/step - loss: 0.3004 - accuracy: 0.9716\n",
            "Epoch 5/70\n",
            "96/96 [==============================] - 0s 2ms/step - loss: 0.1785 - accuracy: 0.9688\n",
            "Epoch 6/70\n",
            "96/96 [==============================] - 0s 2ms/step - loss: 0.1175 - accuracy: 0.9729\n",
            "Epoch 7/70\n",
            "96/96 [==============================] - 0s 2ms/step - loss: 0.0898 - accuracy: 0.9747\n",
            "Epoch 8/70\n",
            "96/96 [==============================] - 0s 2ms/step - loss: 0.0659 - accuracy: 0.9775\n",
            "Epoch 9/70\n",
            "96/96 [==============================] - 0s 2ms/step - loss: 0.0485 - accuracy: 0.9868\n",
            "Epoch 10/70\n",
            "96/96 [==============================] - 0s 3ms/step - loss: 0.0463 - accuracy: 0.9900\n",
            "Epoch 11/70\n",
            "96/96 [==============================] - 0s 2ms/step - loss: 0.0461 - accuracy: 0.9841\n",
            "Epoch 12/70\n",
            "96/96 [==============================] - 0s 2ms/step - loss: 0.0449 - accuracy: 0.9768\n",
            "Epoch 13/70\n",
            "96/96 [==============================] - 0s 3ms/step - loss: 0.0405 - accuracy: 0.9817\n",
            "Epoch 14/70\n",
            "96/96 [==============================] - 0s 3ms/step - loss: 0.0340 - accuracy: 0.9873\n",
            "Epoch 15/70\n",
            "96/96 [==============================] - 0s 2ms/step - loss: 0.0339 - accuracy: 0.9893\n",
            "Epoch 16/70\n",
            "96/96 [==============================] - 0s 2ms/step - loss: 0.0339 - accuracy: 0.9824\n",
            "Epoch 17/70\n",
            "96/96 [==============================] - 0s 2ms/step - loss: 0.0266 - accuracy: 0.9895\n",
            "Epoch 18/70\n",
            "96/96 [==============================] - 0s 2ms/step - loss: 0.0265 - accuracy: 0.9917\n",
            "Epoch 19/70\n",
            "96/96 [==============================] - 0s 3ms/step - loss: 0.0294 - accuracy: 0.9923\n",
            "Epoch 20/70\n",
            "96/96 [==============================] - 0s 2ms/step - loss: 0.0320 - accuracy: 0.9910\n",
            "Epoch 21/70\n",
            "96/96 [==============================] - 0s 2ms/step - loss: 0.0202 - accuracy: 0.9957\n",
            "Epoch 22/70\n",
            "96/96 [==============================] - 0s 2ms/step - loss: 0.0277 - accuracy: 0.9915\n",
            "Epoch 23/70\n",
            "96/96 [==============================] - 0s 2ms/step - loss: 0.0326 - accuracy: 0.9878\n",
            "Epoch 24/70\n",
            "96/96 [==============================] - 0s 2ms/step - loss: 0.0301 - accuracy: 0.9913\n",
            "Epoch 25/70\n",
            "96/96 [==============================] - 0s 2ms/step - loss: 0.0279 - accuracy: 0.9893\n",
            "Epoch 26/70\n",
            "96/96 [==============================] - 0s 2ms/step - loss: 0.0251 - accuracy: 0.9936\n",
            "Epoch 27/70\n",
            "96/96 [==============================] - 0s 3ms/step - loss: 0.0259 - accuracy: 0.9907\n",
            "Epoch 28/70\n",
            "96/96 [==============================] - 0s 3ms/step - loss: 0.0261 - accuracy: 0.9900\n",
            "Epoch 29/70\n",
            "96/96 [==============================] - 0s 2ms/step - loss: 0.0281 - accuracy: 0.9875\n",
            "Epoch 30/70\n",
            "96/96 [==============================] - 0s 2ms/step - loss: 0.0204 - accuracy: 0.9957\n",
            "Epoch 31/70\n",
            "96/96 [==============================] - 0s 3ms/step - loss: 0.0223 - accuracy: 0.9887\n",
            "Epoch 32/70\n",
            "96/96 [==============================] - 0s 3ms/step - loss: 0.0215 - accuracy: 0.9933\n",
            "Epoch 33/70\n",
            "96/96 [==============================] - 0s 2ms/step - loss: 0.0296 - accuracy: 0.9893\n",
            "Epoch 34/70\n",
            "96/96 [==============================] - 0s 2ms/step - loss: 0.0254 - accuracy: 0.9906\n",
            "Epoch 35/70\n",
            "96/96 [==============================] - 0s 2ms/step - loss: 0.0172 - accuracy: 0.9950\n",
            "Epoch 36/70\n",
            "96/96 [==============================] - 0s 2ms/step - loss: 0.0237 - accuracy: 0.9892\n",
            "Epoch 37/70\n",
            "96/96 [==============================] - 0s 2ms/step - loss: 0.0149 - accuracy: 0.9958\n",
            "Epoch 38/70\n",
            "96/96 [==============================] - 0s 2ms/step - loss: 0.0185 - accuracy: 0.9924\n",
            "Epoch 39/70\n",
            "96/96 [==============================] - 0s 2ms/step - loss: 0.0205 - accuracy: 0.9926\n",
            "Epoch 40/70\n",
            "96/96 [==============================] - 0s 2ms/step - loss: 0.0216 - accuracy: 0.9938\n",
            "Epoch 41/70\n",
            "96/96 [==============================] - 0s 2ms/step - loss: 0.0180 - accuracy: 0.9935\n",
            "Epoch 42/70\n",
            "96/96 [==============================] - 0s 2ms/step - loss: 0.0207 - accuracy: 0.9913\n",
            "Epoch 43/70\n",
            "96/96 [==============================] - 0s 2ms/step - loss: 0.0222 - accuracy: 0.9936\n",
            "Epoch 44/70\n",
            "96/96 [==============================] - 0s 3ms/step - loss: 0.0194 - accuracy: 0.9909\n",
            "Epoch 45/70\n",
            "96/96 [==============================] - 0s 3ms/step - loss: 0.0211 - accuracy: 0.9880\n",
            "Epoch 46/70\n",
            "96/96 [==============================] - 0s 3ms/step - loss: 0.0190 - accuracy: 0.9919\n",
            "Epoch 47/70\n",
            "96/96 [==============================] - 0s 3ms/step - loss: 0.0259 - accuracy: 0.9912\n",
            "Epoch 48/70\n",
            "96/96 [==============================] - 0s 2ms/step - loss: 0.0215 - accuracy: 0.9919\n",
            "Epoch 49/70\n",
            "96/96 [==============================] - 0s 3ms/step - loss: 0.0168 - accuracy: 0.9928\n",
            "Epoch 50/70\n",
            "96/96 [==============================] - 0s 2ms/step - loss: 0.0207 - accuracy: 0.9926\n",
            "Epoch 51/70\n",
            "96/96 [==============================] - 0s 2ms/step - loss: 0.0200 - accuracy: 0.9955\n",
            "Epoch 52/70\n",
            "96/96 [==============================] - 0s 3ms/step - loss: 0.0176 - accuracy: 0.9948\n",
            "Epoch 53/70\n",
            "96/96 [==============================] - 0s 2ms/step - loss: 0.0168 - accuracy: 0.9930\n",
            "Epoch 54/70\n",
            "96/96 [==============================] - 0s 2ms/step - loss: 0.0152 - accuracy: 0.9946\n",
            "Epoch 55/70\n",
            "96/96 [==============================] - 0s 2ms/step - loss: 0.0215 - accuracy: 0.9936\n",
            "Epoch 56/70\n",
            "96/96 [==============================] - 0s 3ms/step - loss: 0.0151 - accuracy: 0.9962\n",
            "Epoch 57/70\n",
            "96/96 [==============================] - 0s 2ms/step - loss: 0.0253 - accuracy: 0.9877\n",
            "Epoch 58/70\n",
            "96/96 [==============================] - 0s 2ms/step - loss: 0.0217 - accuracy: 0.9947\n",
            "Epoch 59/70\n",
            "96/96 [==============================] - 0s 2ms/step - loss: 0.0225 - accuracy: 0.9904\n",
            "Epoch 60/70\n",
            "96/96 [==============================] - 0s 3ms/step - loss: 0.0287 - accuracy: 0.9890\n",
            "Epoch 61/70\n",
            "96/96 [==============================] - 0s 2ms/step - loss: 0.0134 - accuracy: 0.9969\n",
            "Epoch 62/70\n",
            "96/96 [==============================] - 0s 3ms/step - loss: 0.0206 - accuracy: 0.9932\n",
            "Epoch 63/70\n",
            "96/96 [==============================] - 0s 2ms/step - loss: 0.0208 - accuracy: 0.9921\n",
            "Epoch 64/70\n",
            "96/96 [==============================] - 0s 2ms/step - loss: 0.0181 - accuracy: 0.9931\n",
            "Epoch 65/70\n",
            "96/96 [==============================] - 0s 3ms/step - loss: 0.0213 - accuracy: 0.9895\n",
            "Epoch 66/70\n",
            "96/96 [==============================] - 0s 3ms/step - loss: 0.0168 - accuracy: 0.9935\n",
            "Epoch 67/70\n",
            "96/96 [==============================] - 0s 3ms/step - loss: 0.0138 - accuracy: 0.9953\n",
            "Epoch 68/70\n",
            "96/96 [==============================] - 0s 2ms/step - loss: 0.0183 - accuracy: 0.9959\n",
            "Epoch 69/70\n",
            "96/96 [==============================] - 0s 2ms/step - loss: 0.0238 - accuracy: 0.9887\n",
            "Epoch 70/70\n",
            "96/96 [==============================] - 0s 2ms/step - loss: 0.0180 - accuracy: 0.9916\n"
          ],
          "name": "stdout"
        }
      ]
    },
    {
      "cell_type": "code",
      "metadata": {
        "id": "7F9D6Or4t3n5"
      },
      "source": [
        "history.history??"
      ],
      "execution_count": 8,
      "outputs": []
    },
    {
      "cell_type": "code",
      "metadata": {
        "colab": {
          "base_uri": "https://localhost:8080/"
        },
        "id": "VdJzxYUrkZLi",
        "outputId": "fe50d710-d11b-4193-dce1-d2c0a48f583e"
      },
      "source": [
        "classifier.summary()"
      ],
      "execution_count": 9,
      "outputs": [
        {
          "output_type": "stream",
          "text": [
            "Model: \"sequential\"\n",
            "_________________________________________________________________\n",
            "Layer (type)                 Output Shape              Param #   \n",
            "=================================================================\n",
            "dense (Dense)                (None, 6)                 30        \n",
            "_________________________________________________________________\n",
            "dense_1 (Dense)              (None, 6)                 42        \n",
            "_________________________________________________________________\n",
            "dense_2 (Dense)              (None, 1)                 7         \n",
            "=================================================================\n",
            "Total params: 79\n",
            "Trainable params: 79\n",
            "Non-trainable params: 0\n",
            "_________________________________________________________________\n"
          ],
          "name": "stdout"
        }
      ]
    },
    {
      "cell_type": "code",
      "metadata": {
        "id": "-Vv3aV73dYwR"
      },
      "source": [
        "# Predicting the Test set results\n",
        "y_pred = classifier.predict(X_test)\n",
        "y_pred = (y_pred > 0.5)"
      ],
      "execution_count": 10,
      "outputs": []
    },
    {
      "cell_type": "code",
      "metadata": {
        "colab": {
          "base_uri": "https://localhost:8080/"
        },
        "id": "fQzsiueYksnj",
        "outputId": "76a320bb-ad2e-4a3a-9516-e14df810a273"
      },
      "source": [
        "# Making the Confusion Matrix\n",
        "from sklearn.metrics import accuracy_score\n",
        "accuracy=accuracy_score(y_test,y_pred)\n",
        "accuracy"
      ],
      "execution_count": 11,
      "outputs": [
        {
          "output_type": "execute_result",
          "data": {
            "text/plain": [
              "0.9878640776699029"
            ]
          },
          "metadata": {
            "tags": []
          },
          "execution_count": 11
        }
      ]
    },
    {
      "cell_type": "code",
      "metadata": {
        "colab": {
          "base_uri": "https://localhost:8080/"
        },
        "id": "Pb8Kdb9mhsG3",
        "outputId": "20210cd2-0a2d-4a34-b712-d38c3777f2ad"
      },
      "source": [
        "from sklearn.metrics import confusion_matrix\n",
        "cm = confusion_matrix(y_test, y_pred)\n",
        "cm"
      ],
      "execution_count": 12,
      "outputs": [
        {
          "output_type": "execute_result",
          "data": {
            "text/plain": [
              "array([[227,   5],\n",
              "       [  0, 180]])"
            ]
          },
          "metadata": {
            "tags": []
          },
          "execution_count": 12
        }
      ]
    },
    {
      "cell_type": "code",
      "metadata": {
        "colab": {
          "base_uri": "https://localhost:8080/"
        },
        "id": "2VyIEeZWhV6B",
        "outputId": "eccd9e71-1316-476a-ec07-b16257d2de28"
      },
      "source": [
        "from sklearn.metrics import f1_score\n",
        "f1_score(y_test, y_pred)"
      ],
      "execution_count": 13,
      "outputs": [
        {
          "output_type": "execute_result",
          "data": {
            "text/plain": [
              "0.9863013698630138"
            ]
          },
          "metadata": {
            "tags": []
          },
          "execution_count": 13
        }
      ]
    },
    {
      "cell_type": "code",
      "metadata": {
        "colab": {
          "base_uri": "https://localhost:8080/",
          "height": 295
        },
        "id": "Sj_HW0A9cmXB",
        "outputId": "26927937-39fe-4ac7-ee63-4f4f9b71e8fd"
      },
      "source": [
        "from matplotlib import pyplot as plt \n",
        "\n",
        "plt.plot(history.history['accuracy'])\n",
        "plt.title('Model Accuracy vs Epoch')\n",
        "plt.ylabel('Accuracy')\n",
        "plt.xlabel('Epoch')\n",
        "plt.show()"
      ],
      "execution_count": 14,
      "outputs": [
        {
          "output_type": "display_data",
          "data": {
            "image/png": "[encoded data removed]",
            "text/plain": [
              "<Figure size 432x288 with 1 Axes>"
            ]
          },
          "metadata": {
            "tags": [],
            "needs_background": "light"
          }
        }
      ]
    },
    {
      "cell_type": "code",
      "metadata": {
        "colab": {
          "base_uri": "https://localhost:8080/",
          "height": 295
        },
        "id": "ymCe6vj4vWYr",
        "outputId": "4ede1837-b9d4-462a-8a34-cb20f8312006"
      },
      "source": [
        "plt.plot(history.history['loss'])\n",
        "plt.title('Model Loss vs Epoch')\n",
        "plt.ylabel('Loss')\n",
        "plt.xlabel('Epoch')\n",
        "plt.show()"
      ],
      "execution_count": 15,
      "outputs": [
        {
          "output_type": "display_data",
          "data": {
            "image/png": "[encoded data removed]",
            "text/plain": [
              "<Figure size 432x288 with 1 Axes>"
            ]
          },
          "metadata": {
            "tags": [],
            "needs_background": "light"
          }
        }
      ]
    }
  ]
}